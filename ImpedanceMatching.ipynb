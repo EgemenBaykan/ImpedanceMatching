{
 "cells": [
  {
   "cell_type": "code",
   "execution_count": 59,
   "metadata": {},
   "outputs": [],
   "source": [
    "import cmath\n",
    "import math"
   ]
  },
  {
   "cell_type": "code",
   "execution_count": 60,
   "metadata": {},
   "outputs": [
    {
     "name": "stdout",
     "output_type": "stream",
     "text": [
      "PARAMETERS:\n",
      "\n",
      "Input impedance value is Z_source = 23.00 + j11.50\n",
      "Output impedance value is Z_load = 50.00 + j0.00\n",
      "Target impedance value is Z_load = 50.00 + j0.00\n"
     ]
    }
   ],
   "source": [
    "# Initialize impedance for input and output\n",
    "\n",
    "#PARAMETERS \n",
    "r_source = 23\n",
    "x_source = 11.5\n",
    "z_source = complex(r_source, x_source)\n",
    "\n",
    "r_load = 50\n",
    "x_load = 0\n",
    "z_load = complex(r_load, x_load)\n",
    "\n",
    "r_target = 50\n",
    "x_target = 0\n",
    "z_target = complex(r_target, x_target)\n",
    "\n",
    "# Matching frequency\n",
    "fc = 2445e6\n",
    "\n",
    "print(\"PARAMETERS:\\n\")\n",
    "print(\"Input impedance value is Z_source = %.2f + j%.2f\" % (r_source, x_source))\n",
    "print(\"Output impedance value is Z_load = %.2f + j%.2f\" % (r_load, x_load))\n",
    "print(\"Target impedance value is Z_load = %.2f + j%.2f\" % (r_target, x_target))\n"
   ]
  },
  {
   "cell_type": "code",
   "execution_count": 61,
   "metadata": {},
   "outputs": [
    {
     "name": "stdout",
     "output_type": "stream",
     "text": [
      "Q value is Qs = Qp = 1.08\n"
     ]
    }
   ],
   "source": [
    "# Calculate Q values\n",
    "Qs = Qp = math.sqrt((z_target.real / z_source.real) - 1)\n",
    "print(\"Q value is Qs = Qp = %.2f\" % Qs)"
   ]
  },
  {
   "cell_type": "code",
   "execution_count": 62,
   "metadata": {},
   "outputs": [
    {
     "name": "stdout",
     "output_type": "stream",
     "text": [
      "Capacitor value in Low Pass Configuration is: 1.41 pF\n",
      "Inductor value in Low Pass Configuration is: 2.37 nH\n"
     ]
    }
   ],
   "source": [
    "# Matching for input (Low Pass Configuration)\n",
    "\n",
    "Xs = Qs * z_source.real \n",
    "Xp = z_target.real / Qp \n",
    "\n",
    "# Returns capacitor value for matching\n",
    "Xc = 1 / (2*math.pi*fc*Xp)\n",
    "\n",
    "# Returns inductor value for matching\n",
    "dL = Xs / (2*math.pi*fc)\n",
    "\n",
    "L_resonating = z_source.imag / (2*math.pi*fc)\n",
    "L = L_resonating + dL\n",
    "\n",
    "print(\"Capacitor value in Low Pass Configuration is: %.2f pF\" % (Xc * 1e12))\n",
    "print(\"Inductor value in Low Pass Configuration is: %.2f nH\" % (L * 1e9))\n"
   ]
  },
  {
   "cell_type": "code",
   "execution_count": 63,
   "metadata": {},
   "outputs": [
    {
     "name": "stdout",
     "output_type": "stream",
     "text": [
      "Capacitor value in High Pass Configuration is: 4.85 pF\n",
      "Inductor value in High Pass Configuration is: 3.00 nH\n"
     ]
    }
   ],
   "source": [
    "# Matching for input (High Pass configuration)\n",
    "Xs = Qs * z_source.real\n",
    "Xp = z_target.real / Qp\n",
    "\n",
    "# Returns inductor value for matching\n",
    "L = Xp / (2*math.pi*fc)\n",
    "\n",
    "# Returns capacitor value for matching\n",
    "Xtot = Xs - z_source.imag\n",
    "C = 1 / (2*math.pi*fc*Xtot)\n",
    "\n",
    "print(\"Capacitor value in High Pass Configuration is: %.2f pF\" % (C * 1e12))\n",
    "print(\"Inductor value in High Pass Configuration is: %.2f nH\" % (L * 1e9))\n"
   ]
  },
  {
   "cell_type": "code",
   "execution_count": 64,
   "metadata": {},
   "outputs": [
    {
     "name": "stdout",
     "output_type": "stream",
     "text": [
      "Q value is Qs = Qp = 0.00\n"
     ]
    }
   ],
   "source": [
    "# Matching for output\n",
    "\n",
    "# Realculate Q values\n",
    "Qs = Qp = math.sqrt((z_target.real / z_load.real) - 1)\n",
    "print(\"Q value is Qs = Qp = %.2f\" % Qs)\n",
    "\n"
   ]
  },
  {
   "cell_type": "code",
   "execution_count": 65,
   "metadata": {},
   "outputs": [
    {
     "name": "stdout",
     "output_type": "stream",
     "text": [
      "Qp value is 0. Network cannot be calculated!\n"
     ]
    }
   ],
   "source": [
    "# Matching for output (Low Pass Configuration)\n",
    "if(Qp > 0):\n",
    "    Xs = Qs * z_load.real \n",
    "    Xp = z_target.real / Qp \n",
    "\n",
    "    # Returns capacitor value for matching\n",
    "    Xc = 1 / (2*math.pi*fc*Xp)\n",
    "\n",
    "    # Returns inductor value for matching\n",
    "    dL = Xs / (2*math.pi*fc)\n",
    "\n",
    "    L_resonating = z_load.imag / (2*math.pi*fc)\n",
    "    L = L_resonating + dL\n",
    "\n",
    "    print(\"Capacitor value in Low Pass Configuration is: %.2f pF\" % (Xc * 1e12))\n",
    "    print(\"Inductor value in Low Pass Configuration is: %.2f nH\" % (L * 1e9))\n",
    "\n",
    "        # Matching for input (High Pass configuration)\n",
    "    Xs = Qs * z_load.real\n",
    "    Xp = z_target.real / Qp\n",
    "\n",
    "    # Returns inductor value for matching\n",
    "    L = Xp / (2*math.pi*fc)\n",
    "\n",
    "    # Returns capacitor value for matching\n",
    "    Xtot = Xs - z_load.imag\n",
    "    C = 1 / (2*math.pi*fc*Xtot)\n",
    "\n",
    "    print(\"Capacitor value in High Pass Configuration is: %.2f pF\" % (C * 1e12))\n",
    "    print(\"Inductor value in High Pass Configuration is: %.2f nH\" % (L * 1e9))\n",
    "\n",
    "else:\n",
    "    print(\"Qp value is 0. Network cannot be calculated!\")"
   ]
  },
  {
   "cell_type": "code",
   "execution_count": 66,
   "metadata": {},
   "outputs": [
    {
     "name": "stdout",
     "output_type": "stream",
     "text": [
      "Required Q Value is : 24.45\n"
     ]
    }
   ],
   "source": [
    "# Calculate By Bandwidth\n",
    "BWreqd = 100e6 # 100 MHz\n",
    "\n",
    "# Test\n",
    "# z_source = complex(21,1.15)\n",
    "# z_target = complex(50, 0)\n",
    "# fc = 2445e6\n",
    "# BWreqd = 500e6\n",
    "\n",
    "Qreqd = fc / BWreqd\n",
    "\n",
    "print(\"Required Q Value is : %.2f\" % Qreqd)\n"
   ]
  },
  {
   "cell_type": "code",
   "execution_count": 67,
   "metadata": {},
   "outputs": [
    {
     "name": "stdout",
     "output_type": "stream",
     "text": [
      "The bandwidth provided by a two-element matching network = 2256.63 MHz\n"
     ]
    }
   ],
   "source": [
    "# Recalculate Q values\n",
    "\n",
    "Qs = Qp = math.sqrt((z_target.real/z_source.real)-1)\n",
    "BW = fc / Qs\n",
    "\n",
    "print(\"The bandwidth provided by a two-element matching network = %.2f MHz\" % (BW / 1e6))"
   ]
  },
  {
   "cell_type": "code",
   "execution_count": 68,
   "metadata": {},
   "outputs": [
    {
     "name": "stdout",
     "output_type": "stream",
     "text": [
      "Three-element matching networks virtual resistor value R = 0.083\n"
     ]
    }
   ],
   "source": [
    "R = z_target.real / (Qreqd ** 2 + 1)\n",
    "print(\"Three-element matching networks virtual resistor value R = %.3f\" % R)"
   ]
  },
  {
   "cell_type": "code",
   "execution_count": 69,
   "metadata": {},
   "outputs": [
    {
     "name": "stdout",
     "output_type": "stream",
     "text": [
      "Capacitor 1 value in Pi Network CP1 = 31.83 pF\n",
      "Capacitor 2 value in Pi Network CP2 = 46.66 pF\n",
      "Inductor value in Pi Network LPi = 0.22 nH\n"
     ]
    }
   ],
   "source": [
    "XP1 = z_target.real / Qreqd\n",
    "XS1 = Qreqd * R\n",
    "\n",
    "QPLoad = Qs / z_source.real\n",
    "RPLoad = z_source.real * (QPLoad ** 2 + 1)\n",
    "XPLoad = RPLoad / QPLoad # + 50 Ohms may be needed\n",
    "\n",
    "# Cstray = 1 / (2*math.pi*fc*XPLoad)\n",
    "Cstray = 1 / (2*math.pi*fc*(XPLoad+50)) # +50 Ohm version\n",
    "\n",
    "Q2 = math.sqrt(z_source.real / R - 1)\n",
    "XP2 = RPLoad / Q2\n",
    "XS2 = Q2 * R\n",
    "XSTotal = XS1 + XS2\n",
    "\n",
    "CP1 = 1 / (2*math.pi*fc*XP1)\n",
    "LPi = XSTotal / (2*math.pi*fc)\n",
    "dCP2 = 1 / (2*math.pi*fc*XP2)\n",
    "CP2 = dCP2 - Cstray\n",
    "\n",
    "print(\"Capacitor 1 value in Pi Network CP1 = %.2f pF\" % (CP1 * 1e12))\n",
    "print(\"Capacitor 2 value in Pi Network CP2 = %.2f pF\" % (CP2 * 1e12))\n",
    "print(\"Inductor value in Pi Network LPi = %.2f nH\" % (LPi * 1e9))"
   ]
  }
 ],
 "metadata": {
  "kernelspec": {
   "display_name": "RF_Net",
   "language": "python",
   "name": "python3"
  },
  "language_info": {
   "codemirror_mode": {
    "name": "ipython",
    "version": 3
   },
   "file_extension": ".py",
   "mimetype": "text/x-python",
   "name": "python",
   "nbconvert_exporter": "python",
   "pygments_lexer": "ipython3",
   "version": "3.10.10"
  },
  "orig_nbformat": 4
 },
 "nbformat": 4,
 "nbformat_minor": 2
}
